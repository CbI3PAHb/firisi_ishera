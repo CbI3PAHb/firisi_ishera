{
  "cells": [
    {
      "cell_type": "code",
      "execution_count": 1,
      "metadata": {
        "id": "P2kZtCUgbKz3"
      },
      "outputs": [],
      "source": [
        "IRIS_URL = \"https://archive.ics.uci.edu/ml/machine-learning-databases/iris/iris.data\""
      ]
    },
    {
      "cell_type": "code",
      "execution_count": 2,
      "metadata": {
        "colab": {
          "base_uri": "https://localhost:8080/",
          "height": 226
        },
        "id": "R_DBQqZXbMWv",
        "outputId": "d14461a6-eafb-4a1a-e72b-af8b61159075"
      },
      "outputs": [
        {
          "name": "stdout",
          "output_type": "stream",
          "text": [
            "Collecting wget\n",
            "  Downloading wget-3.2.zip (10 kB)\n",
            "  Preparing metadata (setup.py) ... \u001b[?25ldone\n",
            "\u001b[?25hUsing legacy 'setup.py install' for wget, since package 'wheel' is not installed.\n",
            "Installing collected packages: wget\n",
            "  Running setup.py install for wget ... \u001b[?25ldone\n",
            "\u001b[?25hSuccessfully installed wget-3.2\n"
          ]
        },
        {
          "data": {
            "text/plain": [
              "'iris.data'"
            ]
          },
          "execution_count": 2,
          "metadata": {},
          "output_type": "execute_result"
        }
      ],
      "source": [
        "!pip3 install wget\n",
        "import wget\n",
        "wget.download(IRIS_URL)"
      ]
    },
    {
      "cell_type": "code",
      "execution_count": 6,
      "metadata": {
        "id": "D3TC1d1FdpK-"
      },
      "outputs": [],
      "source": [
        "import tensorflow as tf\n",
        "from sklearn.model_selection import train_test_split\n",
        "\n",
        "# import matplotlib.pyplot as plt\n",
        "# import seaborn as sns\n",
        "import numpy as np\n",
        "import pandas as pd"
      ]
    },
    {
      "cell_type": "code",
      "execution_count": 7,
      "metadata": {
        "id": "C72u9RP6d2B9"
      },
      "outputs": [],
      "source": [
        "data = pd.read_csv(\"./iris.data\", \n",
        "                   header=None, \n",
        "                   names=['длина чашелистика', 'ширина чашелистика', \n",
        "                          'длина лепестка', 'ширина лепестка', 'класс'])"
      ]
    },
    {
      "cell_type": "code",
      "execution_count": 8,
      "metadata": {
        "colab": {
          "base_uri": "https://localhost:8080/",
          "height": 424
        },
        "id": "YW88WEXNekaa",
        "outputId": "f36caa8f-326f-42cd-8c1b-30a3ca30badb"
      },
      "outputs": [
        {
          "data": {
            "text/html": [
              "<div>\n",
              "<style scoped>\n",
              "    .dataframe tbody tr th:only-of-type {\n",
              "        vertical-align: middle;\n",
              "    }\n",
              "\n",
              "    .dataframe tbody tr th {\n",
              "        vertical-align: top;\n",
              "    }\n",
              "\n",
              "    .dataframe thead th {\n",
              "        text-align: right;\n",
              "    }\n",
              "</style>\n",
              "<table border=\"1\" class=\"dataframe\">\n",
              "  <thead>\n",
              "    <tr style=\"text-align: right;\">\n",
              "      <th></th>\n",
              "      <th>длина чашелистика</th>\n",
              "      <th>ширина чашелистика</th>\n",
              "      <th>длина лепестка</th>\n",
              "      <th>ширина лепестка</th>\n",
              "      <th>класс</th>\n",
              "    </tr>\n",
              "  </thead>\n",
              "  <tbody>\n",
              "    <tr>\n",
              "      <th>0</th>\n",
              "      <td>5.1</td>\n",
              "      <td>3.5</td>\n",
              "      <td>1.4</td>\n",
              "      <td>0.2</td>\n",
              "      <td>Iris-setosa</td>\n",
              "    </tr>\n",
              "    <tr>\n",
              "      <th>1</th>\n",
              "      <td>4.9</td>\n",
              "      <td>3.0</td>\n",
              "      <td>1.4</td>\n",
              "      <td>0.2</td>\n",
              "      <td>Iris-setosa</td>\n",
              "    </tr>\n",
              "    <tr>\n",
              "      <th>2</th>\n",
              "      <td>4.7</td>\n",
              "      <td>3.2</td>\n",
              "      <td>1.3</td>\n",
              "      <td>0.2</td>\n",
              "      <td>Iris-setosa</td>\n",
              "    </tr>\n",
              "    <tr>\n",
              "      <th>3</th>\n",
              "      <td>4.6</td>\n",
              "      <td>3.1</td>\n",
              "      <td>1.5</td>\n",
              "      <td>0.2</td>\n",
              "      <td>Iris-setosa</td>\n",
              "    </tr>\n",
              "    <tr>\n",
              "      <th>4</th>\n",
              "      <td>5.0</td>\n",
              "      <td>3.6</td>\n",
              "      <td>1.4</td>\n",
              "      <td>0.2</td>\n",
              "      <td>Iris-setosa</td>\n",
              "    </tr>\n",
              "    <tr>\n",
              "      <th>...</th>\n",
              "      <td>...</td>\n",
              "      <td>...</td>\n",
              "      <td>...</td>\n",
              "      <td>...</td>\n",
              "      <td>...</td>\n",
              "    </tr>\n",
              "    <tr>\n",
              "      <th>145</th>\n",
              "      <td>6.7</td>\n",
              "      <td>3.0</td>\n",
              "      <td>5.2</td>\n",
              "      <td>2.3</td>\n",
              "      <td>Iris-virginica</td>\n",
              "    </tr>\n",
              "    <tr>\n",
              "      <th>146</th>\n",
              "      <td>6.3</td>\n",
              "      <td>2.5</td>\n",
              "      <td>5.0</td>\n",
              "      <td>1.9</td>\n",
              "      <td>Iris-virginica</td>\n",
              "    </tr>\n",
              "    <tr>\n",
              "      <th>147</th>\n",
              "      <td>6.5</td>\n",
              "      <td>3.0</td>\n",
              "      <td>5.2</td>\n",
              "      <td>2.0</td>\n",
              "      <td>Iris-virginica</td>\n",
              "    </tr>\n",
              "    <tr>\n",
              "      <th>148</th>\n",
              "      <td>6.2</td>\n",
              "      <td>3.4</td>\n",
              "      <td>5.4</td>\n",
              "      <td>2.3</td>\n",
              "      <td>Iris-virginica</td>\n",
              "    </tr>\n",
              "    <tr>\n",
              "      <th>149</th>\n",
              "      <td>5.9</td>\n",
              "      <td>3.0</td>\n",
              "      <td>5.1</td>\n",
              "      <td>1.8</td>\n",
              "      <td>Iris-virginica</td>\n",
              "    </tr>\n",
              "  </tbody>\n",
              "</table>\n",
              "<p>150 rows × 5 columns</p>\n",
              "</div>"
            ],
            "text/plain": [
              "     длина чашелистика  ширина чашелистика  длина лепестка  ширина лепестка  \\\n",
              "0                  5.1                 3.5             1.4              0.2   \n",
              "1                  4.9                 3.0             1.4              0.2   \n",
              "2                  4.7                 3.2             1.3              0.2   \n",
              "3                  4.6                 3.1             1.5              0.2   \n",
              "4                  5.0                 3.6             1.4              0.2   \n",
              "..                 ...                 ...             ...              ...   \n",
              "145                6.7                 3.0             5.2              2.3   \n",
              "146                6.3                 2.5             5.0              1.9   \n",
              "147                6.5                 3.0             5.2              2.0   \n",
              "148                6.2                 3.4             5.4              2.3   \n",
              "149                5.9                 3.0             5.1              1.8   \n",
              "\n",
              "              класс  \n",
              "0       Iris-setosa  \n",
              "1       Iris-setosa  \n",
              "2       Iris-setosa  \n",
              "3       Iris-setosa  \n",
              "4       Iris-setosa  \n",
              "..              ...  \n",
              "145  Iris-virginica  \n",
              "146  Iris-virginica  \n",
              "147  Iris-virginica  \n",
              "148  Iris-virginica  \n",
              "149  Iris-virginica  \n",
              "\n",
              "[150 rows x 5 columns]"
            ]
          },
          "execution_count": 8,
          "metadata": {},
          "output_type": "execute_result"
        }
      ],
      "source": [
        "data"
      ]
    },
    {
      "cell_type": "code",
      "execution_count": 9,
      "metadata": {
        "id": "4P4YCRFGhlrJ"
      },
      "outputs": [],
      "source": [
        "data.loc[data['класс'] == 'Iris-setosa', data.columns == 'класс'] = 0\n",
        "data.loc[data['класс'] == 'Iris-versicolor', data.columns == 'класс'] = 1\n",
        "data.loc[data['класс'] == 'Iris-virginica', data.columns == 'класс'] = 2"
      ]
    },
    {
      "cell_type": "code",
      "execution_count": 10,
      "metadata": {
        "id": "-t7qmTbnh5dq"
      },
      "outputs": [
        {
          "name": "stderr",
          "output_type": "stream",
          "text": [
            "/tmp/ipykernel_37443/3988571402.py:2: FutureWarning: In a future version, the Index constructor will not infer numeric dtypes when passed object-dtype sequences (matching Series behavior)\n",
            "  y = pd.get_dummies(y).values\n"
          ]
        }
      ],
      "source": [
        "y = data[\"класс\"].values\n",
        "y = pd.get_dummies(y).values\n",
        "X = data.drop(columns=[\"класс\"]).values"
      ]
    },
    {
      "cell_type": "code",
      "execution_count": 11,
      "metadata": {
        "id": "1vRYI1vdmSM3"
      },
      "outputs": [],
      "source": [
        "X_train, X_test, y_train, y_test = train_test_split(X, y, test_size=0.2, random_state=0)"
      ]
    },
    {
      "cell_type": "code",
      "execution_count": 12,
      "metadata": {
        "id": "_gP-AG0piskl"
      },
      "outputs": [
        {
          "name": "stderr",
          "output_type": "stream",
          "text": [
            "2023-01-13 14:30:04.078750: W tensorflow/compiler/xla/stream_executor/platform/default/dso_loader.cc:64] Could not load dynamic library 'libcuda.so.1'; dlerror: libcuda.so.1: cannot open shared object file: No such file or directory\n",
            "2023-01-13 14:30:04.078785: W tensorflow/compiler/xla/stream_executor/cuda/cuda_driver.cc:265] failed call to cuInit: UNKNOWN ERROR (303)\n",
            "2023-01-13 14:30:04.078812: I tensorflow/compiler/xla/stream_executor/cuda/cuda_diagnostics.cc:156] kernel driver does not appear to be running on this host (ser0p): /proc/driver/nvidia/version does not exist\n",
            "2023-01-13 14:30:04.124750: I tensorflow/core/platform/cpu_feature_guard.cc:193] This TensorFlow binary is optimized with oneAPI Deep Neural Network Library (oneDNN) to use the following CPU instructions in performance-critical operations:  AVX2 FMA\n",
            "To enable them in other operations, rebuild TensorFlow with the appropriate compiler flags.\n"
          ]
        }
      ],
      "source": [
        "X_train, y_train = tf.convert_to_tensor(X_train, dtype=tf.float32), tf.convert_to_tensor(y_train, dtype=tf.float32)\n",
        "X_test, y_test = tf.convert_to_tensor(X_test, dtype=tf.float32), tf.convert_to_tensor(y_test, dtype=tf.float32)"
      ]
    },
    {
      "cell_type": "code",
      "execution_count": 13,
      "metadata": {
        "id": "vmkMmmUmjTtZ"
      },
      "outputs": [],
      "source": [
        "hiddenSize = 10\n",
        "\n",
        "model = tf.keras.Sequential([\n",
        "    tf.keras.layers.Dense(hiddenSize, activation='relu'),\n",
        "    tf.keras.layers.Dense(hiddenSize, activation='relu'),\n",
        "    tf.keras.layers.Dense(3, activation='softmax')\n",
        "])"
      ]
    },
    {
      "cell_type": "code",
      "execution_count": 14,
      "metadata": {
        "id": "cvZvWxG7kBLj"
      },
      "outputs": [],
      "source": [
        "model.compile(optimizer='rmsprop',\n",
        "              loss='categorical_crossentropy',\n",
        "              metrics=['accuracy'])"
      ]
    },
    {
      "cell_type": "code",
      "execution_count": 19,
      "metadata": {
        "colab": {
          "base_uri": "https://localhost:8080/"
        },
        "id": "eiT5Q41vkO_V",
        "outputId": "845b57f0-aa0b-4bc4-e786-697a2909b10c"
      },
      "outputs": [
        {
          "name": "stdout",
          "output_type": "stream",
          "text": [
            "Epoch 1/100\n",
            "3/3 [==============================] - 0s 2ms/step - loss: 0.5534 - accuracy: 0.8000\n",
            "Epoch 2/100\n",
            "3/3 [==============================] - 0s 2ms/step - loss: 0.5484 - accuracy: 0.7917\n",
            "Epoch 3/100\n",
            "3/3 [==============================] - 0s 2ms/step - loss: 0.5438 - accuracy: 0.8167\n",
            "Epoch 4/100\n",
            "3/3 [==============================] - 0s 2ms/step - loss: 0.5391 - accuracy: 0.8167\n",
            "Epoch 5/100\n",
            "3/3 [==============================] - 0s 2ms/step - loss: 0.5345 - accuracy: 0.8083\n",
            "Epoch 6/100\n",
            "3/3 [==============================] - 0s 2ms/step - loss: 0.5294 - accuracy: 0.8167\n",
            "Epoch 7/100\n",
            "3/3 [==============================] - 0s 2ms/step - loss: 0.5247 - accuracy: 0.8167\n",
            "Epoch 8/100\n",
            "3/3 [==============================] - 0s 2ms/step - loss: 0.5200 - accuracy: 0.8333\n",
            "Epoch 9/100\n",
            "3/3 [==============================] - 0s 2ms/step - loss: 0.5155 - accuracy: 0.8083\n",
            "Epoch 10/100\n",
            "3/3 [==============================] - 0s 2ms/step - loss: 0.5118 - accuracy: 0.8333\n",
            "Epoch 11/100\n",
            "3/3 [==============================] - 0s 2ms/step - loss: 0.5064 - accuracy: 0.8167\n",
            "Epoch 12/100\n",
            "3/3 [==============================] - 0s 2ms/step - loss: 0.5035 - accuracy: 0.8250\n",
            "Epoch 13/100\n",
            "3/3 [==============================] - 0s 3ms/step - loss: 0.4982 - accuracy: 0.8167\n",
            "Epoch 14/100\n",
            "3/3 [==============================] - 0s 2ms/step - loss: 0.4946 - accuracy: 0.8167\n",
            "Epoch 15/100\n",
            "3/3 [==============================] - 0s 2ms/step - loss: 0.4901 - accuracy: 0.8583\n",
            "Epoch 16/100\n",
            "3/3 [==============================] - 0s 2ms/step - loss: 0.4866 - accuracy: 0.8417\n",
            "Epoch 17/100\n",
            "3/3 [==============================] - 0s 3ms/step - loss: 0.4828 - accuracy: 0.8250\n",
            "Epoch 18/100\n",
            "3/3 [==============================] - 0s 3ms/step - loss: 0.4794 - accuracy: 0.8417\n",
            "Epoch 19/100\n",
            "3/3 [==============================] - 0s 2ms/step - loss: 0.4749 - accuracy: 0.8250\n",
            "Epoch 20/100\n",
            "3/3 [==============================] - 0s 2ms/step - loss: 0.4714 - accuracy: 0.8167\n",
            "Epoch 21/100\n",
            "3/3 [==============================] - 0s 2ms/step - loss: 0.4673 - accuracy: 0.8667\n",
            "Epoch 22/100\n",
            "3/3 [==============================] - 0s 2ms/step - loss: 0.4642 - accuracy: 0.8167\n",
            "Epoch 23/100\n",
            "3/3 [==============================] - 0s 3ms/step - loss: 0.4604 - accuracy: 0.8167\n",
            "Epoch 24/100\n",
            "3/3 [==============================] - 0s 2ms/step - loss: 0.4576 - accuracy: 0.8667\n",
            "Epoch 25/100\n",
            "3/3 [==============================] - 0s 3ms/step - loss: 0.4535 - accuracy: 0.8583\n",
            "Epoch 26/100\n",
            "3/3 [==============================] - 0s 4ms/step - loss: 0.4492 - accuracy: 0.8667\n",
            "Epoch 27/100\n",
            "3/3 [==============================] - 0s 2ms/step - loss: 0.4470 - accuracy: 0.8583\n",
            "Epoch 28/100\n",
            "3/3 [==============================] - 0s 2ms/step - loss: 0.4428 - accuracy: 0.8167\n",
            "Epoch 29/100\n",
            "3/3 [==============================] - 0s 3ms/step - loss: 0.4395 - accuracy: 0.8583\n",
            "Epoch 30/100\n",
            "3/3 [==============================] - 0s 3ms/step - loss: 0.4361 - accuracy: 0.8667\n",
            "Epoch 31/100\n",
            "3/3 [==============================] - 0s 2ms/step - loss: 0.4326 - accuracy: 0.8583\n",
            "Epoch 32/100\n",
            "3/3 [==============================] - 0s 3ms/step - loss: 0.4323 - accuracy: 0.8750\n",
            "Epoch 33/100\n",
            "3/3 [==============================] - 0s 3ms/step - loss: 0.4278 - accuracy: 0.8500\n",
            "Epoch 34/100\n",
            "3/3 [==============================] - 0s 3ms/step - loss: 0.4233 - accuracy: 0.8667\n",
            "Epoch 35/100\n",
            "3/3 [==============================] - 0s 2ms/step - loss: 0.4212 - accuracy: 0.8833\n",
            "Epoch 36/100\n",
            "3/3 [==============================] - 0s 2ms/step - loss: 0.4177 - accuracy: 0.9000\n",
            "Epoch 37/100\n",
            "3/3 [==============================] - 0s 2ms/step - loss: 0.4146 - accuracy: 0.8833\n",
            "Epoch 38/100\n",
            "3/3 [==============================] - 0s 2ms/step - loss: 0.4123 - accuracy: 0.8917\n",
            "Epoch 39/100\n",
            "3/3 [==============================] - 0s 2ms/step - loss: 0.4103 - accuracy: 0.8917\n",
            "Epoch 40/100\n",
            "3/3 [==============================] - 0s 2ms/step - loss: 0.4061 - accuracy: 0.8833\n",
            "Epoch 41/100\n",
            "3/3 [==============================] - 0s 2ms/step - loss: 0.4028 - accuracy: 0.8833\n",
            "Epoch 42/100\n",
            "3/3 [==============================] - 0s 2ms/step - loss: 0.4002 - accuracy: 0.8833\n",
            "Epoch 43/100\n",
            "3/3 [==============================] - 0s 2ms/step - loss: 0.3983 - accuracy: 0.9333\n",
            "Epoch 44/100\n",
            "3/3 [==============================] - 0s 3ms/step - loss: 0.3947 - accuracy: 0.8833\n",
            "Epoch 45/100\n",
            "3/3 [==============================] - 0s 2ms/step - loss: 0.3918 - accuracy: 0.9167\n",
            "Epoch 46/100\n",
            "3/3 [==============================] - 0s 3ms/step - loss: 0.3894 - accuracy: 0.9000\n",
            "Epoch 47/100\n",
            "3/3 [==============================] - 0s 3ms/step - loss: 0.3864 - accuracy: 0.9083\n",
            "Epoch 48/100\n",
            "3/3 [==============================] - 0s 2ms/step - loss: 0.3848 - accuracy: 0.9083\n",
            "Epoch 49/100\n",
            "3/3 [==============================] - 0s 2ms/step - loss: 0.3806 - accuracy: 0.9250\n",
            "Epoch 50/100\n",
            "3/3 [==============================] - 0s 2ms/step - loss: 0.3780 - accuracy: 0.9083\n",
            "Epoch 51/100\n",
            "3/3 [==============================] - 0s 3ms/step - loss: 0.3759 - accuracy: 0.9250\n",
            "Epoch 52/100\n",
            "3/3 [==============================] - 0s 2ms/step - loss: 0.3725 - accuracy: 0.9000\n",
            "Epoch 53/100\n",
            "3/3 [==============================] - 0s 3ms/step - loss: 0.3705 - accuracy: 0.9333\n",
            "Epoch 54/100\n",
            "3/3 [==============================] - 0s 2ms/step - loss: 0.3671 - accuracy: 0.9083\n",
            "Epoch 55/100\n",
            "3/3 [==============================] - 0s 3ms/step - loss: 0.3644 - accuracy: 0.9250\n",
            "Epoch 56/100\n",
            "3/3 [==============================] - 0s 2ms/step - loss: 0.3612 - accuracy: 0.9333\n",
            "Epoch 57/100\n",
            "3/3 [==============================] - 0s 3ms/step - loss: 0.3590 - accuracy: 0.9333\n",
            "Epoch 58/100\n",
            "3/3 [==============================] - 0s 2ms/step - loss: 0.3556 - accuracy: 0.9333\n",
            "Epoch 59/100\n",
            "3/3 [==============================] - 0s 2ms/step - loss: 0.3527 - accuracy: 0.9417\n",
            "Epoch 60/100\n",
            "3/3 [==============================] - 0s 2ms/step - loss: 0.3507 - accuracy: 0.9417\n",
            "Epoch 61/100\n",
            "3/3 [==============================] - 0s 3ms/step - loss: 0.3486 - accuracy: 0.9417\n",
            "Epoch 62/100\n",
            "3/3 [==============================] - 0s 2ms/step - loss: 0.3465 - accuracy: 0.9500\n",
            "Epoch 63/100\n",
            "3/3 [==============================] - 0s 3ms/step - loss: 0.3432 - accuracy: 0.9417\n",
            "Epoch 64/100\n",
            "3/3 [==============================] - 0s 2ms/step - loss: 0.3406 - accuracy: 0.9500\n",
            "Epoch 65/100\n",
            "3/3 [==============================] - 0s 2ms/step - loss: 0.3389 - accuracy: 0.9417\n",
            "Epoch 66/100\n",
            "3/3 [==============================] - 0s 2ms/step - loss: 0.3378 - accuracy: 0.9417\n",
            "Epoch 67/100\n",
            "3/3 [==============================] - 0s 3ms/step - loss: 0.3346 - accuracy: 0.9500\n",
            "Epoch 68/100\n",
            "3/3 [==============================] - 0s 2ms/step - loss: 0.3319 - accuracy: 0.9417\n",
            "Epoch 69/100\n",
            "3/3 [==============================] - 0s 2ms/step - loss: 0.3297 - accuracy: 0.9500\n",
            "Epoch 70/100\n",
            "3/3 [==============================] - 0s 2ms/step - loss: 0.3272 - accuracy: 0.9417\n",
            "Epoch 71/100\n",
            "3/3 [==============================] - 0s 2ms/step - loss: 0.3248 - accuracy: 0.9417\n",
            "Epoch 72/100\n",
            "3/3 [==============================] - 0s 2ms/step - loss: 0.3254 - accuracy: 0.9583\n",
            "Epoch 73/100\n",
            "3/3 [==============================] - 0s 3ms/step - loss: 0.3203 - accuracy: 0.9500\n",
            "Epoch 74/100\n",
            "3/3 [==============================] - 0s 2ms/step - loss: 0.3200 - accuracy: 0.9417\n",
            "Epoch 75/100\n",
            "3/3 [==============================] - 0s 2ms/step - loss: 0.3167 - accuracy: 0.9417\n",
            "Epoch 76/100\n",
            "3/3 [==============================] - 0s 2ms/step - loss: 0.3156 - accuracy: 0.9417\n",
            "Epoch 77/100\n",
            "3/3 [==============================] - 0s 2ms/step - loss: 0.3128 - accuracy: 0.9417\n",
            "Epoch 78/100\n",
            "3/3 [==============================] - 0s 3ms/step - loss: 0.3109 - accuracy: 0.9417\n",
            "Epoch 79/100\n",
            "3/3 [==============================] - 0s 2ms/step - loss: 0.3085 - accuracy: 0.9417\n",
            "Epoch 80/100\n",
            "3/3 [==============================] - 0s 2ms/step - loss: 0.3056 - accuracy: 0.9500\n",
            "Epoch 81/100\n",
            "3/3 [==============================] - 0s 2ms/step - loss: 0.3042 - accuracy: 0.9500\n",
            "Epoch 82/100\n",
            "3/3 [==============================] - 0s 2ms/step - loss: 0.3013 - accuracy: 0.9500\n",
            "Epoch 83/100\n",
            "3/3 [==============================] - 0s 2ms/step - loss: 0.2988 - accuracy: 0.9500\n",
            "Epoch 84/100\n",
            "3/3 [==============================] - 0s 2ms/step - loss: 0.2978 - accuracy: 0.9417\n",
            "Epoch 85/100\n",
            "3/3 [==============================] - 0s 2ms/step - loss: 0.2943 - accuracy: 0.9500\n",
            "Epoch 86/100\n",
            "3/3 [==============================] - 0s 2ms/step - loss: 0.2929 - accuracy: 0.9583\n",
            "Epoch 87/100\n",
            "3/3 [==============================] - 0s 2ms/step - loss: 0.2892 - accuracy: 0.9500\n",
            "Epoch 88/100\n",
            "3/3 [==============================] - 0s 2ms/step - loss: 0.2872 - accuracy: 0.9583\n",
            "Epoch 89/100\n",
            "3/3 [==============================] - 0s 2ms/step - loss: 0.2854 - accuracy: 0.9500\n",
            "Epoch 90/100\n",
            "3/3 [==============================] - 0s 2ms/step - loss: 0.2833 - accuracy: 0.9500\n",
            "Epoch 91/100\n",
            "3/3 [==============================] - 0s 2ms/step - loss: 0.2802 - accuracy: 0.9500\n",
            "Epoch 92/100\n",
            "3/3 [==============================] - 0s 2ms/step - loss: 0.2803 - accuracy: 0.9500\n",
            "Epoch 93/100\n",
            "3/3 [==============================] - 0s 2ms/step - loss: 0.2773 - accuracy: 0.9500\n",
            "Epoch 94/100\n",
            "3/3 [==============================] - 0s 3ms/step - loss: 0.2758 - accuracy: 0.9500\n",
            "Epoch 95/100\n",
            "3/3 [==============================] - 0s 2ms/step - loss: 0.2736 - accuracy: 0.9500\n",
            "Epoch 96/100\n",
            "3/3 [==============================] - 0s 3ms/step - loss: 0.2724 - accuracy: 0.9583\n",
            "Epoch 97/100\n",
            "3/3 [==============================] - 0s 2ms/step - loss: 0.2690 - accuracy: 0.9500\n",
            "Epoch 98/100\n",
            "3/3 [==============================] - 0s 2ms/step - loss: 0.2690 - accuracy: 0.9583\n",
            "Epoch 99/100\n",
            "3/3 [==============================] - 0s 2ms/step - loss: 0.2660 - accuracy: 0.9667\n",
            "Epoch 100/100\n",
            "3/3 [==============================] - 0s 2ms/step - loss: 0.2661 - accuracy: 0.9583\n"
          ]
        },
        {
          "data": {
            "text/plain": [
              "<keras.callbacks.History at 0x7f21a86dcc10>"
            ]
          },
          "execution_count": 19,
          "metadata": {},
          "output_type": "execute_result"
        }
      ],
      "source": [
        "model.fit(X_train, y_train, batch_size=50, epochs=100)"
      ]
    },
    {
      "cell_type": "code",
      "execution_count": 20,
      "metadata": {
        "id": "AfDdA1ZKojwJ"
      },
      "outputs": [
        {
          "name": "stdout",
          "output_type": "stream",
          "text": [
            "Keras weights file (<HDF5 file \"variables.h5\" (mode r+)>) saving:\n",
            "...layers\n",
            "......dense\n",
            ".........vars\n",
            "............0\n",
            "............1\n",
            "......dense_1\n",
            ".........vars\n",
            "............0\n",
            "............1\n",
            "......dense_2\n",
            ".........vars\n",
            "............0\n",
            "............1\n",
            "...metrics\n",
            "......mean\n",
            ".........vars\n",
            "............0\n",
            "............1\n",
            "......mean_metric_wrapper\n",
            ".........vars\n",
            "............0\n",
            "............1\n",
            "...optimizer\n",
            "......vars\n",
            ".........0\n",
            ".........1\n",
            ".........2\n",
            ".........3\n",
            ".........4\n",
            ".........5\n",
            ".........6\n",
            "...vars\n",
            "Keras model archive saving:\n",
            "File Name                                             Modified             Size\n",
            "metadata.json                                  2023-01-13 14:30:58           64\n",
            "config.json                                    2023-01-13 14:30:58         1797\n",
            "variables.h5                                   2023-01-13 14:30:58        22952\n"
          ]
        }
      ],
      "source": [
        "import pickle\n",
        "pickle.dump(model, open(\"model.pkl\", \"wb\"))"
      ]
    },
    {
      "cell_type": "code",
      "execution_count": 21,
      "metadata": {
        "colab": {
          "base_uri": "https://localhost:8080/"
        },
        "id": "h1OFVM4iqLjN",
        "outputId": "83a11767-3985-48b7-fe3f-88508ee81f27"
      },
      "outputs": [
        {
          "name": "stdout",
          "output_type": "stream",
          "text": [
            "Keras model archive loading:\n",
            "File Name                                             Modified             Size\n",
            "metadata.json                                  2023-01-13 14:30:58           64\n",
            "config.json                                    2023-01-13 14:30:58         1797\n",
            "variables.h5                                   2023-01-13 14:30:58        22952\n",
            "Keras weights file (<HDF5 file \"variables.h5\" (mode r)>) loading:\n",
            "...layers\n",
            "......dense\n",
            ".........vars\n",
            "............0\n",
            "............1\n",
            "......dense_1\n",
            ".........vars\n",
            "............0\n",
            "............1\n",
            "......dense_2\n",
            ".........vars\n",
            "............0\n",
            "............1\n",
            "...metrics\n",
            "......mean\n",
            ".........vars\n",
            "............0\n",
            "............1\n",
            "......mean_metric_wrapper\n",
            ".........vars\n",
            "............0\n",
            "............1\n",
            "...optimizer\n",
            "......vars\n",
            ".........0\n",
            ".........1\n",
            ".........2\n",
            ".........3\n",
            ".........4\n",
            ".........5\n",
            ".........6\n",
            "...vars\n",
            "1/1 [==============================] - 0s 59ms/step\n"
          ]
        },
        {
          "data": {
            "text/plain": [
              "array([[0.01013546, 0.3712966 , 0.61856794],\n",
              "       [0.02502128, 0.3702068 , 0.60477185],\n",
              "       [0.0839937 , 0.45531684, 0.46068949]], dtype=float32)"
            ]
          },
          "execution_count": 21,
          "metadata": {},
          "output_type": "execute_result"
        }
      ],
      "source": [
        "model1 = pickle.load(open(\"model.pkl\", \"rb\"))\n",
        "model1.predict([[1, 2, 3, 4],\n",
        "                [3, 2, 1, 4],\n",
        "                [2, 4, 1, 3]])"
      ]
    },
    {
      "cell_type": "code",
      "execution_count": 22,
      "metadata": {
        "colab": {
          "base_uri": "https://localhost:8080/"
        },
        "id": "R2vi-8zD1Q0P",
        "outputId": "99fe6c5d-75da-409a-b545-cec54e626fe1"
      },
      "outputs": [
        {
          "name": "stdout",
          "output_type": "stream",
          "text": [
            "1/1 [==============================] - 0s 29ms/step - loss: 0.2652 - accuracy: 0.9667\n"
          ]
        },
        {
          "data": {
            "text/plain": [
              "[0.2652064561843872, 0.9666666388511658]"
            ]
          },
          "execution_count": 22,
          "metadata": {},
          "output_type": "execute_result"
        }
      ],
      "source": [
        "model.evaluate(X_test, y_test)"
      ]
    }
  ],
  "metadata": {
    "colab": {
      "provenance": []
    },
    "kernelspec": {
      "display_name": "Python 3",
      "language": "python",
      "name": "python3"
    },
    "language_info": {
      "codemirror_mode": {
        "name": "ipython",
        "version": 3
      },
      "file_extension": ".py",
      "mimetype": "text/x-python",
      "name": "python",
      "nbconvert_exporter": "python",
      "pygments_lexer": "ipython3",
      "version": "3.10.6 (main, Nov 14 2022, 16:10:14) [GCC 11.3.0]"
    },
    "vscode": {
      "interpreter": {
        "hash": "916dbcbb3f70747c44a77c7bcd40155683ae19c65e1c03b4aa3499c5328201f1"
      }
    }
  },
  "nbformat": 4,
  "nbformat_minor": 0
}
